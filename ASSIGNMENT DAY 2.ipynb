{
 "cells": [
  {
   "cell_type": "markdown",
   "metadata": {},
   "source": [
    "# ASSIGNMENT DAY 2"
   ]
  },
  {
   "cell_type": "markdown",
   "metadata": {},
   "source": [
    "# Question 1"
   ]
  },
  {
   "cell_type": "code",
   "execution_count": 8,
   "metadata": {},
   "outputs": [
    {
     "name": "stdout",
     "output_type": "stream",
     "text": [
      "1\n",
      "2\n",
      "3\n",
      "4\n",
      "5\n",
      "6\n",
      "7\n",
      "8\n",
      "9\n",
      "10\n",
      "[2, 4, 6, 8, 10]\n"
     ]
    }
   ],
   "source": [
    "\n",
    "list=[]\n",
    "i=1\n",
    "while i<=10:\n",
    "    n=int(input())\n",
    "    if n%2==0:\n",
    "        list.append(n)\n",
    "    i=i+1\n",
    "print(list)    \n",
    "    "
   ]
  },
  {
   "cell_type": "markdown",
   "metadata": {},
   "source": [
    "# Question 2"
   ]
  },
  {
   "cell_type": "raw",
   "metadata": {},
   "source": [
    "\n",
    "\n",
    "Comprehension in python provide us with a short and concise way to construct new sequences using sequences which have been already defined. Python supports 4 types of comprehensions 1)List comprehensions 2)Dictionary comprehensions 3)Set comprehensions 4)Generation comprehensions\n",
    "\n",
    "        ex1: Suppose we want to create a new list 'b' where list 'a' is given and elements in 'b' are exactly the squares of elements in 'a'.Then instead of using loops we can use list comprehensions.\n",
    "        ex2: Suppose we have two list 'x' and 'y' we want to find the common elements.here also we can use list comprehensions instead of loops.\n",
    "        ex3: Suppose if we want to split a word and create a new list etc."
   ]
  },
  {
   "cell_type": "code",
   "execution_count": 2,
   "metadata": {},
   "outputs": [
    {
     "name": "stdout",
     "output_type": "stream",
     "text": [
      "[1, 2, 3, 4, 5]\n",
      "[1, 4, 9, 16, 25]\n"
     ]
    }
   ],
   "source": [
    "#example 1 \n",
    "\n",
    "a=[1,2,3,4,5]\n",
    "print(a)\n",
    "b=[x**2 for x in a]\n",
    "print(b)"
   ]
  },
  {
   "cell_type": "code",
   "execution_count": 3,
   "metadata": {},
   "outputs": [
    {
     "name": "stdout",
     "output_type": "stream",
     "text": [
      "[1, 2, 3, 4, 5]\n",
      "[2, 4, 5, 8, 9]\n",
      "[2, 4, 5]\n"
     ]
    }
   ],
   "source": [
    "#example 2 \n",
    "\n",
    "x = [1, 2, 3, 4, 5]\n",
    "print(x)\n",
    "y = [2, 4, 5, 8, 9]\n",
    "print(y)\n",
    "\n",
    "comon = [a for a in x for b in y if a == b]\n",
    "print(comon)"
   ]
  },
  {
   "cell_type": "code",
   "execution_count": 6,
   "metadata": {},
   "outputs": [
    {
     "name": "stdout",
     "output_type": "stream",
     "text": [
      "['H', 'u', 'm', 'a', 'n']\n"
     ]
    }
   ],
   "source": [
    "#example 3\n",
    "\n",
    "new=[x for x in 'Human']\n",
    "print(new)"
   ]
  },
  {
   "cell_type": "markdown",
   "metadata": {},
   "source": [
    "# Question 3"
   ]
  },
  {
   "cell_type": "code",
   "execution_count": 11,
   "metadata": {},
   "outputs": [
    {
     "name": "stdout",
     "output_type": "stream",
     "text": [
      "4\n",
      "{1: 1, 2: 4, 3: 9, 4: 16}\n"
     ]
    }
   ],
   "source": [
    "n=int(input())\n",
    "i=1\n",
    "d={}\n",
    "while i<=n:\n",
    "    d[i]=i*i\n",
    "    i=i+1\n",
    "print(d)    "
   ]
  },
  {
   "cell_type": "markdown",
   "metadata": {},
   "source": [
    "# Question 4\n"
   ]
  },
  {
   "cell_type": "code",
   "execution_count": 12,
   "metadata": {},
   "outputs": [
    {
     "name": "stdout",
     "output_type": "stream",
     "text": [
      "4\n",
      "UP 5\n",
      "DOWN 3\n",
      "LEFT 3\n",
      "RIGHT 2\n",
      "2\n"
     ]
    }
   ],
   "source": [
    "import math\n",
    "position={\"x\":0,\"y\":0}\n",
    "n=int(input())\n",
    "for i in range(0,n):\n",
    "    direction,steps=input().split()\n",
    "    if direction==\"UP\":\n",
    "        position[\"y\"]+=int(steps)\n",
    "    elif direction==\"DOWN\":\n",
    "        position[\"y\"]-=int(steps)\n",
    "    elif direction==\"LEFT\":\n",
    "        position[\"x\"]+=int(steps)\n",
    "    elif direction==\"RIGHT\":\n",
    "        position[\"x\"]-=int(steps)\n",
    "print(int(round(math.sqrt(position[\"x\"]**2+position[\"y\"]**2))))\n"
   ]
  },
  {
   "cell_type": "code",
   "execution_count": null,
   "metadata": {},
   "outputs": [],
   "source": []
  }
 ],
 "metadata": {
  "kernelspec": {
   "display_name": "Python 3",
   "language": "python",
   "name": "python3"
  },
  "language_info": {
   "codemirror_mode": {
    "name": "ipython",
    "version": 3
   },
   "file_extension": ".py",
   "mimetype": "text/x-python",
   "name": "python",
   "nbconvert_exporter": "python",
   "pygments_lexer": "ipython3",
   "version": "3.8.3"
  }
 },
 "nbformat": 4,
 "nbformat_minor": 4
}
