{
 "cells": [
  {
   "cell_type": "markdown",
   "metadata": {},
   "source": [
    "# ASSIGNMENT 3"
   ]
  },
  {
   "cell_type": "markdown",
   "metadata": {},
   "source": [
    "# Question 1"
   ]
  },
  {
   "cell_type": "code",
   "execution_count": 1,
   "metadata": {},
   "outputs": [
    {
     "data": {
      "text/plain": [
       "array([ 2,  5,  8, 11, 14, 17, 20, 23, 26, 29, 32, 35, 38, 41, 44, 47])"
      ]
     },
     "execution_count": 1,
     "metadata": {},
     "output_type": "execute_result"
    }
   ],
   "source": [
    "import numpy as np\n",
    "np.arange(2,50,3)"
   ]
  },
  {
   "cell_type": "markdown",
   "metadata": {},
   "source": [
    "# Question 2"
   ]
  },
  {
   "cell_type": "code",
   "execution_count": 5,
   "metadata": {},
   "outputs": [
    {
     "name": "stdout",
     "output_type": "stream",
     "text": [
      "enter elements of 1st list\n",
      "\n",
      "1\n",
      "3\n",
      "5\n",
      "7\n",
      "9\n",
      "enter elements of 2nd list\n",
      "\n",
      "2\n",
      "4\n",
      "6\n",
      "8\n",
      "10\n",
      "list1: [1, 3, 5, 7, 9]\n",
      "list2: [2, 4, 6, 8, 10]\n",
      "array 1: [1 3 5 7 9]\n",
      "array 2: [ 2  4  6  8 10]\n",
      "concatenated array [ 1  3  5  7  9  2  4  6  8 10]\n",
      "sorted array 1\n",
      "\n",
      "[1 3 5 7 9]\n",
      "sorted array 2\n",
      "\n",
      "[ 2  4  6  8 10]\n",
      "sorted concatenated array\n",
      "\n",
      "[ 1  2  3  4  5  6  7  8  9 10]\n"
     ]
    }
   ],
   "source": [
    "import numpy as np\n",
    "list1=[]\n",
    "list2=[]\n",
    "print(\"enter elements of 1st list\\n\")\n",
    "i=0\n",
    "while i<5:\n",
    "    list1.append(int(input()))\n",
    "    i=i+1\n",
    "print(\"enter elements of 2nd list\\n\")\n",
    "i=0\n",
    "while (i<5):\n",
    "    list2.append(int(input()))\n",
    "    i=i+1\n",
    "    \n",
    "arr1=np.array(list1)\n",
    "arr2=np.array(list2)\n",
    "\n",
    "print(\"list1:\",list1)\n",
    "print(\"list2:\",list2)\n",
    "print(\"array 1:\",arr1)\n",
    "print(\"array 2:\",arr2)\n",
    "\n",
    "arr3=np.array(np.concatenate((arr1,arr2)))\n",
    "print(\"concatenated array\",arr3)\n",
    "\n",
    "print(\"sorted array 1\\n\")\n",
    "print(np.sort(arr1))\n",
    "\n",
    "print(\"sorted array 2\\n\")\n",
    "print(np.sort(arr2))\n",
    "\n",
    "print(\"sorted concatenated array\\n\")\n",
    "print(np.sort(arr3))\n"
   ]
  },
  {
   "cell_type": "markdown",
   "metadata": {},
   "source": [
    "# Question 3"
   ]
  },
  {
   "cell_type": "code",
   "execution_count": 7,
   "metadata": {},
   "outputs": [
    {
     "name": "stdout",
     "output_type": "stream",
     "text": [
      "[[ 1  2  3  4]\n",
      " [ 5  6  7  8]\n",
      " [ 9 10 11 12]]\n",
      "array dimension: 2\n",
      "array size: 12\n"
     ]
    }
   ],
   "source": [
    "import numpy as np\n",
    "arr=np.array([[1,2,3,4],[5,6,7,8],[9,10,11,12]])\n",
    "print(arr)\n",
    "print (\"array dimension:\",arr.ndim)\n",
    "print (\"array size:\",arr.size)"
   ]
  },
  {
   "cell_type": "markdown",
   "metadata": {},
   "source": [
    "# Question 4"
   ]
  },
  {
   "cell_type": "code",
   "execution_count": 8,
   "metadata": {},
   "outputs": [
    {
     "name": "stdout",
     "output_type": "stream",
     "text": [
      "1D ARRAY: [1 2 3 4]\n",
      "reshaped 2D: [[1 2]\n",
      " [3 4]]\n"
     ]
    }
   ],
   "source": [
    "import numpy as np\n",
    "arr1=np.array([1,2,3,4])\n",
    "print(\"1D ARRAY:\",arr1)\n",
    "rearr=np.reshape(arr1,(-1,2))\n",
    "print(\"reshaped 2D:\",rearr)"
   ]
  },
  {
   "cell_type": "code",
   "execution_count": 12,
   "metadata": {},
   "outputs": [
    {
     "name": "stdout",
     "output_type": "stream",
     "text": [
      "[[2]\n",
      " [3]\n",
      " [6]\n",
      " [7]\n",
      " [9]]\n"
     ]
    }
   ],
   "source": [
    "import numpy as np\n",
    "x = np.array([2,3,6,7,9])\n",
    "y = x[:, np.newaxis]\n",
    "print(y)"
   ]
  },
  {
   "cell_type": "markdown",
   "metadata": {},
   "source": [
    "# Question 5"
   ]
  },
  {
   "cell_type": "code",
   "execution_count": 11,
   "metadata": {},
   "outputs": [
    {
     "name": "stdout",
     "output_type": "stream",
     "text": [
      "vertical stacking: \n",
      " [[1 2]\n",
      " [3 4]\n",
      " [5 6]\n",
      " [7 8]]\n",
      "horizontal stacking: \n",
      " [[1 2 5 6]\n",
      " [3 4 7 8]]\n"
     ]
    }
   ],
   "source": [
    "import numpy as np\n",
    "arr1=np.array([[1,2],[3,4]])\n",
    "arr2=np.array([[5,6],[7,8]])\n",
    "print(\"vertical stacking: \\n\",np.vstack((arr1,arr2)))\n",
    "print(\"horizontal stacking: \\n\",np.hstack((arr1,arr2)))"
   ]
  },
  {
   "cell_type": "markdown",
   "metadata": {},
   "source": [
    "# Question 6"
   ]
  },
  {
   "cell_type": "raw",
   "metadata": {},
   "source": [
    "to get unique items we can use numpy.unique() function and to get count we can use np.count_nonzero(np.unique())"
   ]
  },
  {
   "cell_type": "code",
   "execution_count": 14,
   "metadata": {},
   "outputs": [
    {
     "data": {
      "text/plain": [
       "array([1, 2, 3, 4, 5, 6])"
      ]
     },
     "execution_count": 14,
     "metadata": {},
     "output_type": "execute_result"
    }
   ],
   "source": [
    "a= np.array([1, 1, 2, 3, 4, 4, 5, 6])\n",
    "\n",
    "np.unique(a)\n"
   ]
  },
  {
   "cell_type": "code",
   "execution_count": 15,
   "metadata": {},
   "outputs": [
    {
     "data": {
      "text/plain": [
       "6"
      ]
     },
     "execution_count": 15,
     "metadata": {},
     "output_type": "execute_result"
    }
   ],
   "source": [
    "np.count_nonzero(np.unique(a))"
   ]
  },
  {
   "cell_type": "code",
   "execution_count": null,
   "metadata": {},
   "outputs": [],
   "source": []
  }
 ],
 "metadata": {
  "kernelspec": {
   "display_name": "Python 3",
   "language": "python",
   "name": "python3"
  },
  "language_info": {
   "codemirror_mode": {
    "name": "ipython",
    "version": 3
   },
   "file_extension": ".py",
   "mimetype": "text/x-python",
   "name": "python",
   "nbconvert_exporter": "python",
   "pygments_lexer": "ipython3",
   "version": "3.8.3"
  }
 },
 "nbformat": 4,
 "nbformat_minor": 4
}
